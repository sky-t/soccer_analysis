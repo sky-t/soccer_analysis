{
 "cells": [
  {
   "cell_type": "markdown",
   "metadata": {},
   "source": [
    "7/24/2017\n",
    "\n",
    "This notebook documents an analysis of \"expected goals against\" for the Portland Timbers, who play in the MLS Soccer League. I was provided a dataset by the fine folks at [American Soccer Analysis](http://www.americansocceranalysis.com/) with expected goals and starting lineups for all regular season games since the beginning of the 2015 season. They also provided me with a lineupskey table which details positional assignments for the various soccer formations used (such as 4-4-2, or 4-2-3-1, etc.) For the past several years, the Timbers have exclusively played a 4 man back line, with two central defenders (center backs) which helped simplify this analysis, since there were only pairings to look at (no 3-man back lines). \n",
    "\n",
    "I was primarily intersted in answering the questions:\n",
    "\n",
    "* Which centerback pairings over the last few years have the best expected goals against performance?\n",
    "* What does the Portland Timbers expected goals against performance look like over the past few seasons?"
   ]
  },
  {
   "cell_type": "code",
   "execution_count": 1,
   "metadata": {
    "collapsed": false
   },
   "outputs": [
    {
     "name": "stderr",
     "output_type": "stream",
     "text": [
      "C:\\Users\\Scott\\Anaconda2\\envs\\snakes\\lib\\site-packages\\IPython\\html.py:14: ShimWarning: The `IPython.html` package has been deprecated. You should import from `notebook` instead. `IPython.html.widgets` has moved to `ipywidgets`.\n",
      "  \"`IPython.html.widgets` has moved to `ipywidgets`.\", ShimWarning)\n"
     ]
    }
   ],
   "source": [
    "import os \n",
    "from dotenv import load_dotenv, find_dotenv\n",
    "import psycopg2\n",
    "import matplotlib.pyplot as plt\n",
    "import numpy as np\n",
    "import pandas as pd\n",
    "import seaborn as sns\n",
    "import sys\n",
    "%matplotlib inline"
   ]
  },
  {
   "cell_type": "code",
   "execution_count": 2,
   "metadata": {
    "collapsed": false
   },
   "outputs": [
    {
     "data": {
      "text/plain": [
       "True"
      ]
     },
     "execution_count": 2,
     "metadata": {},
     "output_type": "execute_result"
    }
   ],
   "source": [
    "load_dotenv(find_dotenv())"
   ]
  },
  {
   "cell_type": "code",
   "execution_count": 3,
   "metadata": {
    "collapsed": true
   },
   "outputs": [],
   "source": [
    "# connect to postgres db\n",
    "def pgconnect():\n",
    "    try:\n",
    "        conn = psycopg2.connect(database=os.environ.get(\"database\"), user=os.environ.get(\"user\"), \n",
    "                            password = os.environ.get(\"password\"), \n",
    "                            host=os.environ.get(\"host\"), port=os.environ.get(\"port\"))\n",
    "        print(\"Opened database successfully\")\n",
    "        return conn\n",
    "    \n",
    "    except psycopg2.Error as e:\n",
    "        print(\"I am unable to connect to the database\")\n",
    "        print(e)\n",
    "        print(e.pgcode)\n",
    "        print(e.pgerror)\n",
    "        print(traceback.format_exc())\n",
    "        return None"
   ]
  },
  {
   "cell_type": "code",
   "execution_count": 4,
   "metadata": {
    "collapsed": true
   },
   "outputs": [],
   "source": [
    "def pquery(QUERY):\n",
    "    '''\n",
    "    takes SQL query string, opens a cursor, executes query in psql, and pulls results into pandas df\n",
    "    '''\n",
    "    conn = pgconnect()\n",
    "    cur = conn.cursor()\n",
    "    \n",
    "    try:\n",
    "        print(\"SQL QUERY = \"+QUERY)\n",
    "        cur.execute(\"SET statement_timeout = 0\")\n",
    "        cur.execute(QUERY)\n",
    "        # Extract the column names and insert them in header\n",
    "        col_names = []\n",
    "        for elt in cur.description:\n",
    "            col_names.append(elt[0])    \n",
    "    \n",
    "        D = cur.fetchall() #convert query result to list\n",
    "        # Create the dataframe, passing in the list of col_names extracted from the description\n",
    "        return pd.DataFrame(D, columns=col_names)\n",
    "        \n",
    "        \n",
    "    except Exception as e:\n",
    "        print(e.pgerror)\n",
    "            \n",
    "    finally:\n",
    "        conn.close()"
   ]
  },
  {
   "cell_type": "markdown",
   "metadata": {},
   "source": [
    "## Aquiring data from the DB and wrangling using Pandas"
   ]
  },
  {
   "cell_type": "code",
   "execution_count": 5,
   "metadata": {
    "collapsed": true
   },
   "outputs": [],
   "source": [
    "# query to find all central defenders for Timbers from 2015-2017\n",
    "\n",
    "QUERY1='''WITH defenders AS\n",
    "  (select * from lineupkey\n",
    "  where position = 'D')\n",
    "SELECT gameid, starting_lineups.formation, \n",
    "starting_lineups.position, starting_lineups.players, defenders.position AS pos_code\n",
    "FROM starting_lineups\n",
    "INNER JOIN defenders\n",
    "ON  starting_lineups.formation = defenders.formation\n",
    "  AND starting_lineups.position = defenders.player\n",
    "WHERE team ILIKE 'Portland' OR team ILIKE 'Timbers';\n",
    "'''\n",
    "\n"
   ]
  },
  {
   "cell_type": "code",
   "execution_count": 6,
   "metadata": {
    "collapsed": false
   },
   "outputs": [
    {
     "name": "stdout",
     "output_type": "stream",
     "text": [
      "Opened database successfully\n",
      "SQL QUERY = WITH defenders AS\n",
      "  (select * from lineupkey\n",
      "  where position = 'D')\n",
      "SELECT gameid, starting_lineups.formation, \n",
      "starting_lineups.position, starting_lineups.players, defenders.position AS pos_code\n",
      "FROM starting_lineups\n",
      "INNER JOIN defenders\n",
      "ON  starting_lineups.formation = defenders.formation\n",
      "  AND starting_lineups.position = defenders.player\n",
      "WHERE team ILIKE 'Portland' OR team ILIKE 'Timbers';\n",
      "\n"
     ]
    }
   ],
   "source": [
    "df1 = pquery(QUERY1)"
   ]
  },
  {
   "cell_type": "code",
   "execution_count": 7,
   "metadata": {
    "collapsed": false
   },
   "outputs": [
    {
     "name": "stdout",
     "output_type": "stream",
     "text": [
      "<class 'pandas.core.frame.DataFrame'>\n",
      "RangeIndex: 176 entries, 0 to 175\n",
      "Data columns (total 5 columns):\n",
      "gameid       176 non-null int64\n",
      "formation    176 non-null object\n",
      "position     176 non-null object\n",
      "players      176 non-null object\n",
      "pos_code     176 non-null object\n",
      "dtypes: int64(1), object(4)\n",
      "memory usage: 7.0+ KB\n"
     ]
    }
   ],
   "source": [
    "df1.info()"
   ]
  },
  {
   "cell_type": "code",
   "execution_count": 8,
   "metadata": {
    "collapsed": false
   },
   "outputs": [
    {
     "data": {
      "text/html": [
       "<div>\n",
       "<table border=\"1\" class=\"dataframe\">\n",
       "  <thead>\n",
       "    <tr style=\"text-align: right;\">\n",
       "      <th></th>\n",
       "      <th>gameid</th>\n",
       "      <th>formation</th>\n",
       "      <th>position</th>\n",
       "      <th>players</th>\n",
       "      <th>pos_code</th>\n",
       "    </tr>\n",
       "  </thead>\n",
       "  <tbody>\n",
       "    <tr>\n",
       "      <th>0</th>\n",
       "      <td>908244</td>\n",
       "      <td>4231</td>\n",
       "      <td>player5</td>\n",
       "      <td>Nat Borchers</td>\n",
       "      <td>D</td>\n",
       "    </tr>\n",
       "    <tr>\n",
       "      <th>1</th>\n",
       "      <td>908244</td>\n",
       "      <td>4231</td>\n",
       "      <td>player6</td>\n",
       "      <td>Liam Ridgewell</td>\n",
       "      <td>D</td>\n",
       "    </tr>\n",
       "    <tr>\n",
       "      <th>2</th>\n",
       "      <td>914812</td>\n",
       "      <td>4231</td>\n",
       "      <td>player5</td>\n",
       "      <td>Nat Borchers</td>\n",
       "      <td>D</td>\n",
       "    </tr>\n",
       "    <tr>\n",
       "      <th>3</th>\n",
       "      <td>914812</td>\n",
       "      <td>4231</td>\n",
       "      <td>player6</td>\n",
       "      <td>Liam Ridgewell</td>\n",
       "      <td>D</td>\n",
       "    </tr>\n",
       "    <tr>\n",
       "      <th>4</th>\n",
       "      <td>914815</td>\n",
       "      <td>4231</td>\n",
       "      <td>player5</td>\n",
       "      <td>Nat Borchers</td>\n",
       "      <td>D</td>\n",
       "    </tr>\n",
       "  </tbody>\n",
       "</table>\n",
       "</div>"
      ],
      "text/plain": [
       "   gameid formation position         players pos_code\n",
       "0  908244      4231  player5    Nat Borchers        D\n",
       "1  908244      4231  player6  Liam Ridgewell        D\n",
       "2  914812      4231  player5    Nat Borchers        D\n",
       "3  914812      4231  player6  Liam Ridgewell        D\n",
       "4  914815      4231  player5    Nat Borchers        D"
      ]
     },
     "execution_count": 8,
     "metadata": {},
     "output_type": "execute_result"
    }
   ],
   "source": [
    "df1.head()"
   ]
  },
  {
   "cell_type": "markdown",
   "metadata": {},
   "source": [
    "What is want now is a data frame of all games and the central defender pairing. Pivot df1 to unstack the players and use game as an index."
   ]
  },
  {
   "cell_type": "code",
   "execution_count": 9,
   "metadata": {
    "collapsed": false
   },
   "outputs": [
    {
     "data": {
      "text/html": [
       "<div>\n",
       "<table border=\"1\" class=\"dataframe\">\n",
       "  <thead>\n",
       "    <tr style=\"text-align: right;\">\n",
       "      <th>position</th>\n",
       "      <th>gameid</th>\n",
       "      <th>player5</th>\n",
       "      <th>player6</th>\n",
       "    </tr>\n",
       "  </thead>\n",
       "  <tbody>\n",
       "    <tr>\n",
       "      <th>0</th>\n",
       "      <td>908244</td>\n",
       "      <td>Nat Borchers</td>\n",
       "      <td>Liam Ridgewell</td>\n",
       "    </tr>\n",
       "    <tr>\n",
       "      <th>1</th>\n",
       "      <td>914812</td>\n",
       "      <td>Nat Borchers</td>\n",
       "      <td>Liam Ridgewell</td>\n",
       "    </tr>\n",
       "    <tr>\n",
       "      <th>2</th>\n",
       "      <td>914815</td>\n",
       "      <td>Nat Borchers</td>\n",
       "      <td>Liam Ridgewell</td>\n",
       "    </tr>\n",
       "    <tr>\n",
       "      <th>3</th>\n",
       "      <td>914828</td>\n",
       "      <td>Nat Borchers</td>\n",
       "      <td>Liam Ridgewell</td>\n",
       "    </tr>\n",
       "    <tr>\n",
       "      <th>4</th>\n",
       "      <td>914849</td>\n",
       "      <td>Nat Borchers</td>\n",
       "      <td>Liam Ridgewell</td>\n",
       "    </tr>\n",
       "    <tr>\n",
       "      <th>5</th>\n",
       "      <td>914856</td>\n",
       "      <td>Nat Borchers</td>\n",
       "      <td>Liam Ridgewell</td>\n",
       "    </tr>\n",
       "    <tr>\n",
       "      <th>6</th>\n",
       "      <td>914859</td>\n",
       "      <td>Nat Borchers</td>\n",
       "      <td>Liam Ridgewell</td>\n",
       "    </tr>\n",
       "    <tr>\n",
       "      <th>7</th>\n",
       "      <td>914863</td>\n",
       "      <td>Nat Borchers</td>\n",
       "      <td>Liam Ridgewell</td>\n",
       "    </tr>\n",
       "    <tr>\n",
       "      <th>8</th>\n",
       "      <td>914877</td>\n",
       "      <td>Nat Borchers</td>\n",
       "      <td>Liam Ridgewell</td>\n",
       "    </tr>\n",
       "    <tr>\n",
       "      <th>9</th>\n",
       "      <td>914880</td>\n",
       "      <td>Nat Borchers</td>\n",
       "      <td>Liam Ridgewell</td>\n",
       "    </tr>\n",
       "  </tbody>\n",
       "</table>\n",
       "</div>"
      ],
      "text/plain": [
       "position  gameid       player5         player6\n",
       "0         908244  Nat Borchers  Liam Ridgewell\n",
       "1         914812  Nat Borchers  Liam Ridgewell\n",
       "2         914815  Nat Borchers  Liam Ridgewell\n",
       "3         914828  Nat Borchers  Liam Ridgewell\n",
       "4         914849  Nat Borchers  Liam Ridgewell\n",
       "5         914856  Nat Borchers  Liam Ridgewell\n",
       "6         914859  Nat Borchers  Liam Ridgewell\n",
       "7         914863  Nat Borchers  Liam Ridgewell\n",
       "8         914877  Nat Borchers  Liam Ridgewell\n",
       "9         914880  Nat Borchers  Liam Ridgewell"
      ]
     },
     "execution_count": 9,
     "metadata": {},
     "output_type": "execute_result"
    }
   ],
   "source": [
    "cb_df = df1.pivot(index='gameid',\n",
    "          columns='position',\n",
    "          values='players')\n",
    "cb_df.reset_index(inplace=True) #get rid of index name to remove extra level\n",
    "cb_df.head(10)"
   ]
  },
  {
   "cell_type": "code",
   "execution_count": 10,
   "metadata": {
    "collapsed": true
   },
   "outputs": [],
   "source": [
    "# query to find xg for each team in every game\n",
    "QUERY2='''SELECT gameid, EXTRACT(YEAR FROM date) AS season,\n",
    "  team as shooting_team, team_1 AS defending_team, SUM(xgvaluep) AS game_xg\n",
    "FROM shots_with_xg\n",
    "GROUP BY gameid, season, team, team_1\n",
    "ORDER BY gameid, season, team, team_1;\n",
    "'''\n"
   ]
  },
  {
   "cell_type": "code",
   "execution_count": 11,
   "metadata": {
    "collapsed": false
   },
   "outputs": [
    {
     "name": "stdout",
     "output_type": "stream",
     "text": [
      "Opened database successfully\n",
      "SQL QUERY = SELECT gameid, EXTRACT(YEAR FROM date) AS season,\n",
      "  team as shooting_team, team_1 AS defending_team, SUM(xgvaluep) AS game_xg\n",
      "FROM shots_with_xg\n",
      "GROUP BY gameid, season, team, team_1\n",
      "ORDER BY gameid, season, team, team_1;\n",
      "\n",
      "<class 'pandas.core.frame.DataFrame'>\n",
      "RangeIndex: 1774 entries, 0 to 1773\n",
      "Data columns (total 5 columns):\n",
      "gameid            1774 non-null object\n",
      "season            1774 non-null float64\n",
      "shooting_team     1774 non-null object\n",
      "defending_team    1774 non-null object\n",
      "game_xg           1774 non-null object\n",
      "dtypes: float64(1), object(4)\n",
      "memory usage: 69.4+ KB\n"
     ]
    }
   ],
   "source": [
    "df2= pquery(QUERY2)\n",
    "df2.info()"
   ]
  },
  {
   "cell_type": "code",
   "execution_count": 12,
   "metadata": {
    "collapsed": false
   },
   "outputs": [
    {
     "data": {
      "text/html": [
       "<div>\n",
       "<table border=\"1\" class=\"dataframe\">\n",
       "  <thead>\n",
       "    <tr style=\"text-align: right;\">\n",
       "      <th></th>\n",
       "      <th>gameid</th>\n",
       "      <th>season</th>\n",
       "      <th>shooting_team</th>\n",
       "      <th>defending_team</th>\n",
       "      <th>game_xg</th>\n",
       "    </tr>\n",
       "  </thead>\n",
       "  <tbody>\n",
       "    <tr>\n",
       "      <th>0</th>\n",
       "      <td>908236</td>\n",
       "      <td>2015.0</td>\n",
       "      <td>Chicago</td>\n",
       "      <td>L.A. Galaxy</td>\n",
       "      <td>0.425179891</td>\n",
       "    </tr>\n",
       "    <tr>\n",
       "      <th>1</th>\n",
       "      <td>908236</td>\n",
       "      <td>2015.0</td>\n",
       "      <td>L.A. Galaxy</td>\n",
       "      <td>Chicago</td>\n",
       "      <td>1.172287228</td>\n",
       "    </tr>\n",
       "    <tr>\n",
       "      <th>2</th>\n",
       "      <td>908237</td>\n",
       "      <td>2015.0</td>\n",
       "      <td>DC United</td>\n",
       "      <td>Montreal</td>\n",
       "      <td>1.436462760</td>\n",
       "    </tr>\n",
       "    <tr>\n",
       "      <th>3</th>\n",
       "      <td>908237</td>\n",
       "      <td>2015.0</td>\n",
       "      <td>Montreal</td>\n",
       "      <td>DC United</td>\n",
       "      <td>1.509451567</td>\n",
       "    </tr>\n",
       "    <tr>\n",
       "      <th>4</th>\n",
       "      <td>908238</td>\n",
       "      <td>2015.0</td>\n",
       "      <td>Toronto</td>\n",
       "      <td>Vancouver</td>\n",
       "      <td>2.361282657</td>\n",
       "    </tr>\n",
       "  </tbody>\n",
       "</table>\n",
       "</div>"
      ],
      "text/plain": [
       "   gameid  season shooting_team defending_team      game_xg\n",
       "0  908236  2015.0       Chicago    L.A. Galaxy  0.425179891\n",
       "1  908236  2015.0   L.A. Galaxy        Chicago  1.172287228\n",
       "2  908237  2015.0     DC United       Montreal  1.436462760\n",
       "3  908237  2015.0      Montreal      DC United  1.509451567\n",
       "4  908238  2015.0       Toronto      Vancouver  2.361282657"
      ]
     },
     "execution_count": 12,
     "metadata": {},
     "output_type": "execute_result"
    }
   ],
   "source": [
    "df2.head()"
   ]
  },
  {
   "cell_type": "code",
   "execution_count": 13,
   "metadata": {
    "collapsed": false
   },
   "outputs": [
    {
     "data": {
      "text/html": [
       "<div>\n",
       "<table border=\"1\" class=\"dataframe\">\n",
       "  <thead>\n",
       "    <tr style=\"text-align: right;\">\n",
       "      <th></th>\n",
       "      <th>gameid</th>\n",
       "      <th>player5</th>\n",
       "      <th>player6</th>\n",
       "      <th>season</th>\n",
       "      <th>shooting_team</th>\n",
       "      <th>defending_team</th>\n",
       "      <th>game_xg</th>\n",
       "    </tr>\n",
       "  </thead>\n",
       "  <tbody>\n",
       "    <tr>\n",
       "      <th>1</th>\n",
       "      <td>908244</td>\n",
       "      <td>Nat Borchers</td>\n",
       "      <td>Liam Ridgewell</td>\n",
       "      <td>2015.0</td>\n",
       "      <td>Salt Lake</td>\n",
       "      <td>Portland</td>\n",
       "      <td>0.757679627</td>\n",
       "    </tr>\n",
       "    <tr>\n",
       "      <th>2</th>\n",
       "      <td>914812</td>\n",
       "      <td>Nat Borchers</td>\n",
       "      <td>Liam Ridgewell</td>\n",
       "      <td>2015.0</td>\n",
       "      <td>L.A. Galaxy</td>\n",
       "      <td>Portland</td>\n",
       "      <td>1.719197251</td>\n",
       "    </tr>\n",
       "    <tr>\n",
       "      <th>4</th>\n",
       "      <td>914815</td>\n",
       "      <td>Nat Borchers</td>\n",
       "      <td>Liam Ridgewell</td>\n",
       "      <td>2015.0</td>\n",
       "      <td>Kansas City</td>\n",
       "      <td>Portland</td>\n",
       "      <td>0.872302677</td>\n",
       "    </tr>\n",
       "    <tr>\n",
       "      <th>6</th>\n",
       "      <td>914828</td>\n",
       "      <td>Nat Borchers</td>\n",
       "      <td>Liam Ridgewell</td>\n",
       "      <td>2015.0</td>\n",
       "      <td>FC Dallas</td>\n",
       "      <td>Portland</td>\n",
       "      <td>1.050071446</td>\n",
       "    </tr>\n",
       "    <tr>\n",
       "      <th>8</th>\n",
       "      <td>914849</td>\n",
       "      <td>Nat Borchers</td>\n",
       "      <td>Liam Ridgewell</td>\n",
       "      <td>2015.0</td>\n",
       "      <td>Orlando City</td>\n",
       "      <td>Portland</td>\n",
       "      <td>2.200978268</td>\n",
       "    </tr>\n",
       "  </tbody>\n",
       "</table>\n",
       "</div>"
      ],
      "text/plain": [
       "   gameid       player5         player6  season shooting_team defending_team  \\\n",
       "1  908244  Nat Borchers  Liam Ridgewell  2015.0     Salt Lake       Portland   \n",
       "2  914812  Nat Borchers  Liam Ridgewell  2015.0   L.A. Galaxy       Portland   \n",
       "4  914815  Nat Borchers  Liam Ridgewell  2015.0   Kansas City       Portland   \n",
       "6  914828  Nat Borchers  Liam Ridgewell  2015.0     FC Dallas       Portland   \n",
       "8  914849  Nat Borchers  Liam Ridgewell  2015.0  Orlando City       Portland   \n",
       "\n",
       "       game_xg  \n",
       "1  0.757679627  \n",
       "2  1.719197251  \n",
       "4  0.872302677  \n",
       "6  1.050071446  \n",
       "8  2.200978268  "
      ]
     },
     "execution_count": 13,
     "metadata": {},
     "output_type": "execute_result"
    }
   ],
   "source": [
    "# inner join cb_df and df2, then filter rows to Timbers defenders only\n",
    "# each row is a unique game, game_xg is the total expected goals against the Timbers that game\n",
    "\n",
    "timbers_cb_xga = cb_df.merge(df2, how='inner', on='gameid')\n",
    "timbers_cb_xga = timbers_cb_xga.loc[timbers_cb_xga['defending_team'] =='Portland']\n",
    "timbers_cb_xga.head()"
   ]
  },
  {
   "cell_type": "code",
   "execution_count": 14,
   "metadata": {
    "collapsed": false
   },
   "outputs": [
    {
     "data": {
      "text/html": [
       "<div>\n",
       "<table border=\"1\" class=\"dataframe\">\n",
       "  <thead>\n",
       "    <tr style=\"text-align: right;\">\n",
       "      <th></th>\n",
       "      <th>gameid</th>\n",
       "      <th>player5</th>\n",
       "      <th>player6</th>\n",
       "      <th>season</th>\n",
       "      <th>shooting_team</th>\n",
       "      <th>defending_team</th>\n",
       "      <th>game_xg</th>\n",
       "      <th>cb_pair</th>\n",
       "    </tr>\n",
       "  </thead>\n",
       "  <tbody>\n",
       "    <tr>\n",
       "      <th>1</th>\n",
       "      <td>908244</td>\n",
       "      <td>Nat Borchers</td>\n",
       "      <td>Liam Ridgewell</td>\n",
       "      <td>2015.0</td>\n",
       "      <td>Salt Lake</td>\n",
       "      <td>Portland</td>\n",
       "      <td>0.757679627</td>\n",
       "      <td>N. Borchers/L. Ridgewell</td>\n",
       "    </tr>\n",
       "    <tr>\n",
       "      <th>2</th>\n",
       "      <td>914812</td>\n",
       "      <td>Nat Borchers</td>\n",
       "      <td>Liam Ridgewell</td>\n",
       "      <td>2015.0</td>\n",
       "      <td>L.A. Galaxy</td>\n",
       "      <td>Portland</td>\n",
       "      <td>1.719197251</td>\n",
       "      <td>N. Borchers/L. Ridgewell</td>\n",
       "    </tr>\n",
       "    <tr>\n",
       "      <th>4</th>\n",
       "      <td>914815</td>\n",
       "      <td>Nat Borchers</td>\n",
       "      <td>Liam Ridgewell</td>\n",
       "      <td>2015.0</td>\n",
       "      <td>Kansas City</td>\n",
       "      <td>Portland</td>\n",
       "      <td>0.872302677</td>\n",
       "      <td>N. Borchers/L. Ridgewell</td>\n",
       "    </tr>\n",
       "    <tr>\n",
       "      <th>6</th>\n",
       "      <td>914828</td>\n",
       "      <td>Nat Borchers</td>\n",
       "      <td>Liam Ridgewell</td>\n",
       "      <td>2015.0</td>\n",
       "      <td>FC Dallas</td>\n",
       "      <td>Portland</td>\n",
       "      <td>1.050071446</td>\n",
       "      <td>N. Borchers/L. Ridgewell</td>\n",
       "    </tr>\n",
       "    <tr>\n",
       "      <th>8</th>\n",
       "      <td>914849</td>\n",
       "      <td>Nat Borchers</td>\n",
       "      <td>Liam Ridgewell</td>\n",
       "      <td>2015.0</td>\n",
       "      <td>Orlando City</td>\n",
       "      <td>Portland</td>\n",
       "      <td>2.200978268</td>\n",
       "      <td>N. Borchers/L. Ridgewell</td>\n",
       "    </tr>\n",
       "  </tbody>\n",
       "</table>\n",
       "</div>"
      ],
      "text/plain": [
       "   gameid       player5         player6  season shooting_team defending_team  \\\n",
       "1  908244  Nat Borchers  Liam Ridgewell  2015.0     Salt Lake       Portland   \n",
       "2  914812  Nat Borchers  Liam Ridgewell  2015.0   L.A. Galaxy       Portland   \n",
       "4  914815  Nat Borchers  Liam Ridgewell  2015.0   Kansas City       Portland   \n",
       "6  914828  Nat Borchers  Liam Ridgewell  2015.0     FC Dallas       Portland   \n",
       "8  914849  Nat Borchers  Liam Ridgewell  2015.0  Orlando City       Portland   \n",
       "\n",
       "       game_xg                   cb_pair  \n",
       "1  0.757679627  N. Borchers/L. Ridgewell  \n",
       "2  1.719197251  N. Borchers/L. Ridgewell  \n",
       "4  0.872302677  N. Borchers/L. Ridgewell  \n",
       "6  1.050071446  N. Borchers/L. Ridgewell  \n",
       "8  2.200978268  N. Borchers/L. Ridgewell  "
      ]
     },
     "execution_count": 14,
     "metadata": {},
     "output_type": "execute_result"
    }
   ],
   "source": [
    "# add a column 'cb_pair' to timbers_cb_xga with a string made up of truncated names\n",
    "\n",
    "p5 = timbers_cb_xga['player5'].str.split()\n",
    "p6 = timbers_cb_xga['player6'].str.split()\n",
    "\n",
    "timbers_cb_xga['cb_pair'] = p5.str[0].str[0]+\". \"+p5.str[1]+\"/\"+p6.str[0].str[0]+\". \"+p6.str[1]\n",
    "timbers_cb_xga.head()"
   ]
  },
  {
   "cell_type": "code",
   "execution_count": 47,
   "metadata": {
    "collapsed": false
   },
   "outputs": [
    {
     "name": "stdout",
     "output_type": "stream",
     "text": [
      "<class 'pandas.core.frame.DataFrame'>\n",
      "Int64Index: 88 entries, 1 to 174\n",
      "Data columns (total 8 columns):\n",
      "gameid            88 non-null int64\n",
      "player5           88 non-null object\n",
      "player6           88 non-null object\n",
      "season            88 non-null int32\n",
      "shooting_team     88 non-null object\n",
      "defending_team    88 non-null object\n",
      "game_xg           88 non-null float64\n",
      "cb_pair           88 non-null object\n",
      "dtypes: float64(1), int32(1), int64(1), object(5)\n",
      "memory usage: 5.8+ KB\n"
     ]
    }
   ],
   "source": [
    "# cast game_xg datatype as float\n",
    "timbers_cb_xga['game_xg'] = timbers_cb_xga['game_xg'].astype('float64')\n",
    "timbers_cb_xga['season'] = timbers_cb_xga['season'].astype('int')"
   ]
  },
  {
   "cell_type": "markdown",
   "metadata": {},
   "source": [
    "## Exploratory Plots and Summary Statistics"
   ]
  },
  {
   "cell_type": "markdown",
   "metadata": {},
   "source": [
    "### Overall Distribution of Expected Goals Against"
   ]
  },
  {
   "cell_type": "code",
   "execution_count": 23,
   "metadata": {
    "collapsed": false
   },
   "outputs": [
    {
     "data": {
      "text/plain": [
       "<matplotlib.axes._subplots.AxesSubplot at 0x14bfaa29be0>"
      ]
     },
     "execution_count": 23,
     "metadata": {},
     "output_type": "execute_result"
    },
    {
     "data": {
      "image/png": "[encoded data removed]",
      "text/plain": [
       "<matplotlib.figure.Figure at 0x14bfaa29710>"
      ]
     },
     "metadata": {},
     "output_type": "display_data"
    }
   ],
   "source": [
    "# look at overall distribution of expected goals against\n",
    "sns.distplot(timbers_cb_xga['game_xg'])"
   ]
  },
  {
   "cell_type": "code",
   "execution_count": 24,
   "metadata": {
    "collapsed": false
   },
   "outputs": [
    {
     "data": {
      "text/plain": [
       "count    88.000000\n",
       "mean      1.248022\n",
       "std       0.636576\n",
       "min       0.254839\n",
       "25%       0.764544\n",
       "50%       1.103531\n",
       "75%       1.689486\n",
       "max       3.376729\n",
       "Name: game_xg, dtype: float64"
      ]
     },
     "execution_count": 24,
     "metadata": {},
     "output_type": "execute_result"
    }
   ],
   "source": [
    "# overall expected goals summary stats\n",
    "timbers_cb_xga['game_xg'].describe()"
   ]
  },
  {
   "cell_type": "markdown",
   "metadata": {},
   "source": [
    "There are 88 observations (games) in our dataframe of expected goals against. The histogram and kernel density plot above shows a right skewed distribution of game_xg (expected goals against). There don't appear to be any extremely high outliers, with the max xGA at 3.377. The median xGA for all three seasons is 1.104"
   ]
  },
  {
   "cell_type": "markdown",
   "metadata": {},
   "source": [
    "### Bivariate Plots and Summaries"
   ]
  },
  {
   "cell_type": "markdown",
   "metadata": {},
   "source": [
    "#### xGA by Season"
   ]
  },
  {
   "cell_type": "code",
   "execution_count": 25,
   "metadata": {
    "collapsed": false
   },
   "outputs": [
    {
     "data": {
      "text/plain": [
       "<matplotlib.axes._subplots.AxesSubplot at 0x14bfae347f0>"
      ]
     },
     "execution_count": 25,
     "metadata": {},
     "output_type": "execute_result"
    },
    {
     "data": {
      "image/png": "[encoded data removed]",
      "text/plain": [
       "<matplotlib.figure.Figure at 0x14bfadd7a20>"
      ]
     },
     "metadata": {},
     "output_type": "display_data"
    }
   ],
   "source": [
    "# xGA over 2015, 2016 and 2017 YTD seasons\n",
    "sns.boxplot(data=timbers_cb_xga, x='season', y='game_xg')"
   ]
  },
  {
   "cell_type": "code",
   "execution_count": 27,
   "metadata": {
    "collapsed": false
   },
   "outputs": [
    {
     "data": {
      "text/plain": [
       "season       \n",
       "2015.0  count    34.000000\n",
       "        mean      1.125729\n",
       "        std       0.585295\n",
       "        min       0.254839\n",
       "        25%       0.714703\n",
       "        50%       0.898177\n",
       "        75%       1.547133\n",
       "        max       2.366427\n",
       "2016.0  count    34.000000\n",
       "        mean      1.408132\n",
       "        std       0.615266\n",
       "        min       0.524794\n",
       "        25%       0.911063\n",
       "        50%       1.350510\n",
       "        75%       1.870040\n",
       "        max       3.376729\n",
       "2017.0  count    20.000000\n",
       "        mean      1.183731\n",
       "        std       0.725300\n",
       "        min       0.294132\n",
       "        25%       0.578774\n",
       "        50%       0.991231\n",
       "        75%       1.563656\n",
       "        max       2.660504\n",
       "Name: game_xg, dtype: float64"
      ]
     },
     "execution_count": 27,
     "metadata": {},
     "output_type": "execute_result"
    }
   ],
   "source": [
    "# summary stats of xGa by season\n",
    "timbers_cb_xga.groupby('season')['game_xg'].describe()"
   ]
  },
  {
   "cell_type": "markdown",
   "metadata": {},
   "source": [
    "From the boxplot of game_xg by season and summar stats above, we can see an significant increase in median value from the 2015 to 2016 (+.452) which has dropped down (-.36) to .9912 for the 2017 season thus far. As most Timbers fans observed, last year, the 2016 season, saw a lapse in defensive performance, reflected in the xGA numbers and the win-loss recorod. So far, based on xGA, the 2017 season shows an improvement in defensive form."
   ]
  },
  {
   "cell_type": "markdown",
   "metadata": {},
   "source": [
    "#### xGA by Center Back Pairing"
   ]
  },
  {
   "cell_type": "code",
   "execution_count": 38,
   "metadata": {
    "collapsed": false,
    "scrolled": true
   },
   "outputs": [
    {
     "data": {
      "image/png": "[encoded data removed]",
      "text/plain": [
       "<matplotlib.figure.Figure at 0x14bfea812b0>"
      ]
     },
     "metadata": {},
     "output_type": "display_data"
    }
   ],
   "source": [
    "# generate boxplot of xGA by CB pairing\n",
    "timbers_cb_xga['game_xg']= pd.to_numeric(timbers_cb_xga['game_xg'],errors='coerce')\n",
    "ranks = timbers_cb_xga.groupby(\n",
    "    'cb_pair')['game_xg'].median().fillna(0).sort_values()[::-1].index\n",
    "a4_dims = (16,6)\n",
    "ax = plt.subplots(figsize=a4_dims)\n",
    "p = sns.boxplot(data=timbers_cb_xga, x='cb_pair', y='game_xg', order=ranks)\n",
    "p.tick_params(labelsize=7)"
   ]
  },
  {
   "cell_type": "code",
   "execution_count": 28,
   "metadata": {
    "collapsed": false,
    "scrolled": false
   },
   "outputs": [
    {
     "data": {
      "text/plain": [
       "<seaborn.axisgrid.FacetGrid at 0x14bfaf6d7b8>"
      ]
     },
     "execution_count": 28,
     "metadata": {},
     "output_type": "execute_result"
    },
    {
     "data": {
      "image/png": "[encoded data removed]",
      "text/plain": [
       "<matplotlib.figure.Figure at 0x14bfaf81e48>"
      ]
     },
     "metadata": {},
     "output_type": "display_data"
    }
   ],
   "source": [
    "# distribution of xGA, faceted by season and by CB pairing\n",
    "g = sns.FacetGrid(timbers_cb_xga, row=\"cb_pair\", col=\"season\", margin_titles=True)\n",
    "g.map(plt.hist, \"game_xg\", color=\"steelblue\")"
   ]
  },
  {
   "cell_type": "markdown",
   "metadata": {},
   "source": [
    "We see some interesting things from the facetgrid above. For the 2015 season, Borchers/Ridgewell make almost all the starts, with some starts for Paparatto/Ridgewell, and Borchers/Ridgewell. Most of the starts Paparatto is involved in have xGA < 1. In the 2016 season, we see many more combinations of CB pairings, and the \"Taylors\" era with the 1 year tenure of Steven Taylor and Jermaine Taylor.\n",
    "\n",
    "In 2017, there have been five CB pairing combinations so far."
   ]
  },
  {
   "cell_type": "code",
   "execution_count": 46,
   "metadata": {
    "collapsed": false
   },
   "outputs": [
    {
     "data": {
      "text/plain": [
       "cb_pair                         \n",
       "A. Okugo/L. Olum           count     1.000000\n",
       "                           mean      0.578150\n",
       "                           std            NaN\n",
       "                           min       0.578150\n",
       "                           25%       0.578150\n",
       "                           50%       0.578150\n",
       "                           75%       0.578150\n",
       "                           max       0.578150\n",
       "A. Okugo/R. Miller         count     1.000000\n",
       "                           mean      0.968382\n",
       "                           std            NaN\n",
       "                           min       0.968382\n",
       "                           25%       0.968382\n",
       "                           50%       0.968382\n",
       "                           75%       0.968382\n",
       "                           max       0.968382\n",
       "J. Taylor/A. Okugo         count     2.000000\n",
       "                           mean      0.979620\n",
       "                           std       0.161585\n",
       "                           min       0.865362\n",
       "                           25%       0.922491\n",
       "                           50%       0.979620\n",
       "                           75%       1.036749\n",
       "                           max       1.093878\n",
       "J. Taylor/L. Ridgewell     count     2.000000\n",
       "                           mean      1.865023\n",
       "                           std       0.565164\n",
       "                           min       1.465392\n",
       "                           25%       1.665207\n",
       "                           50%       1.865023\n",
       "                           75%       2.064838\n",
       "                           max       2.264654\n",
       "J. Taylor/N. Borchers      count     2.000000\n",
       "                           mean      1.146785\n",
       "                           std       0.365389\n",
       "                           min       0.888416\n",
       "                           25%       1.017601\n",
       "                           50%       1.146785\n",
       "                           75%       1.275970\n",
       "                           max       1.405155\n",
       "L. Olum/L. Ridgewell       count     4.000000\n",
       "                           mean      1.656671\n",
       "                           std       0.833991\n",
       "                           min       0.578983\n",
       "                           25%       1.235591\n",
       "                           50%       1.785229\n",
       "                           75%       2.206309\n",
       "                           max       2.477245\n",
       "L. Olum/R. Miller          count     9.000000\n",
       "                           mean      1.234758\n",
       "                           std       0.805814\n",
       "                           min       0.294132\n",
       "                           25%       0.619881\n",
       "                           50%       0.900397\n",
       "                           75%       1.802469\n",
       "                           max       2.660504\n",
       "N. Borchers/J. Taylor      count     7.000000\n",
       "                           mean      1.329233\n",
       "                           std       0.589753\n",
       "                           min       0.633855\n",
       "                           25%       0.872918\n",
       "                           50%       1.134464\n",
       "                           75%       1.848633\n",
       "                           max       2.093212\n",
       "N. Borchers/L. Ridgewell   count    41.000000\n",
       "                           mean      1.257212\n",
       "                           std       0.559998\n",
       "                           min       0.254839\n",
       "                           25%       0.832423\n",
       "                           50%       1.329502\n",
       "                           75%       1.590707\n",
       "                           max       2.366427\n",
       "N. Borchers/N. Paparatto   count     2.000000\n",
       "                           mean      0.561646\n",
       "                           std       0.151322\n",
       "                           min       0.454646\n",
       "                           25%       0.508146\n",
       "                           50%       0.561646\n",
       "                           75%       0.615147\n",
       "                           max       0.668647\n",
       "N. Paparatto/L. Ridgewell  count     3.000000\n",
       "                           mean      0.855840\n",
       "                           std       0.273403\n",
       "                           min       0.566704\n",
       "                           25%       0.728671\n",
       "                           50%       0.890637\n",
       "                           75%       1.000408\n",
       "                           max       1.110180\n",
       "R. Miller/L. Ridgewell     count     5.000000\n",
       "                           mean      0.877714\n",
       "                           std       0.478111\n",
       "                           min       0.303274\n",
       "                           25%       0.490283\n",
       "                           50%       1.014080\n",
       "                           75%       1.096883\n",
       "                           max       1.484052\n",
       "S. Taylor/J. Taylor        count     1.000000\n",
       "                           mean      1.679582\n",
       "                           std            NaN\n",
       "                           min       1.679582\n",
       "                           25%       1.679582\n",
       "                           50%       1.679582\n",
       "                           75%       1.679582\n",
       "                           max       1.679582\n",
       "S. Taylor/L. Ridgewell     count     8.000000\n",
       "                           mean      1.493464\n",
       "                           std       0.989049\n",
       "                           min       0.524794\n",
       "                           25%       0.725933\n",
       "                           50%       1.174325\n",
       "                           75%       2.023772\n",
       "                           max       3.376729\n",
       "Name: game_xg, dtype: float64"
      ]
     },
     "execution_count": 46,
     "metadata": {},
     "output_type": "execute_result"
    }
   ],
   "source": [
    "pd.set_option('display.max_rows', 1000)\n",
    "timbers_cb_xga.groupby('cb_pair')['game_xg'].describe()"
   ]
  },
  {
   "cell_type": "markdown",
   "metadata": {},
   "source": [
    "In terms of the original research question, which CB pairing has had the best xGA performance over the past few seasons, based on median value, the data suggest: Borchers/Paparrato, Okugo/Olum, Paparatto/Ridgewell, and Olum/Miller. Note that of these 5 best, only the combination of Olum/Miller exceeds 5 starts (9 so far). The distribution of Olum/Miller, although with a median value < 1 xGA, has some high values above 1.5. "
   ]
  },
  {
   "cell_type": "code",
   "execution_count": 21,
   "metadata": {
    "collapsed": true
   },
   "outputs": [],
   "source": [
    "# export for further visualization work\n",
    "timbers_cb_xga.to_csv('timbers_cb_xga.csv') "
   ]
  }
 ],
 "metadata": {
  "kernelspec": {
   "display_name": "Python (snakes)",
   "language": "python",
   "name": "myenv"
  },
  "language_info": {
   "codemirror_mode": {
    "name": "ipython",
    "version": 3
   },
   "file_extension": ".py",
   "mimetype": "text/x-python",
   "name": "python",
   "nbconvert_exporter": "python",
   "pygments_lexer": "ipython3",
   "version": "3.6.0"
  }
 },
 "nbformat": 4,
 "nbformat_minor": 2
}
